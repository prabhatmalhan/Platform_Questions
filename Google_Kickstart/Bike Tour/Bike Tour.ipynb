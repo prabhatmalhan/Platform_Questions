{
 "cells": [
  {
   "cell_type": "code",
   "execution_count": null,
   "metadata": {},
   "outputs": [],
   "source": [
    "%load \"question.txt\""
   ]
  },
  {
   "cell_type": "code",
   "execution_count": 1,
   "metadata": {},
   "outputs": [
    {
     "name": "stdout",
     "output_type": "stream",
     "text": [
      "4\n"
     ]
    }
   ],
   "source": [
    "t=int(input())"
   ]
  },
  {
   "cell_type": "code",
   "execution_count": 2,
   "metadata": {},
   "outputs": [],
   "source": [
    "a=1"
   ]
  },
  {
   "cell_type": "code",
   "execution_count": 3,
   "metadata": {},
   "outputs": [
    {
     "name": "stdout",
     "output_type": "stream",
     "text": [
      "3\n",
      "10 20 14\n",
      "Case #1: 1\n",
      "4\n",
      "7 7 7 7\n",
      "Case #2: 0\n",
      "5\n",
      "10 90 20 90 10\n",
      "Case #3: 2\n",
      "3\n",
      "10 3 10\n",
      "Case #4: 0\n"
     ]
    }
   ],
   "source": [
    "while(a<=t):\n",
    "    n=int(input())\n",
    "    h=input().split()\n",
    "    for i in range(n):\n",
    "        h[i]=int(h[i])\n",
    "    c=0\n",
    "    for i in range(1,n-1):\n",
    "        if(h[i-1]<h[i]>h[i+1]):\n",
    "            c+=1\n",
    "    print('Case #' + str(a) + ': ' + str(c))\n",
    "    a+=1"
   ]
  }
 ],
 "metadata": {
  "kernelspec": {
   "display_name": "Python 3",
   "language": "python",
   "name": "python3"
  },
  "language_info": {
   "codemirror_mode": {
    "name": "ipython",
    "version": 3
   },
   "file_extension": ".py",
   "mimetype": "text/x-python",
   "name": "python",
   "nbconvert_exporter": "python",
   "pygments_lexer": "ipython3",
   "version": "3.8.0"
  }
 },
 "nbformat": 4,
 "nbformat_minor": 4
}
