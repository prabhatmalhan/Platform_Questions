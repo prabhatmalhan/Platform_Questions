{
 "cells": [
  {
   "cell_type": "code",
   "execution_count": null,
   "metadata": {},
   "outputs": [],
   "source": [
    "# %load question.txt"
   ]
  },
  {
   "cell_type": "code",
   "execution_count": 1,
   "metadata": {},
   "outputs": [],
   "source": [
    "def con(s): return int(s)"
   ]
  },
  {
   "cell_type": "code",
   "execution_count": 2,
   "metadata": {},
   "outputs": [
    {
     "name": "stdout",
     "output_type": "stream",
     "text": [
      "3\n",
      "3 10\n",
      "3 7 2\n",
      "Case #1: 6\n",
      "4 100\n",
      "11 10 5 50\n",
      "Case #2: 99\n",
      "1 1\n",
      "1\n",
      "Case #3: 1\n"
     ]
    }
   ],
   "source": [
    "t=int(input())\n",
    "a=1\n",
    "while(a<=t):\n",
    "    n,d=list(map(con,input().split()))\n",
    "    x=list(map(con,input().split()))\n",
    "    move_day=d\n",
    "    for day in x[::-1]:\n",
    "        move_day=move_day//day*day\n",
    "    print(f'Case #{a}: {move_day}')\n",
    "    a+=1"
   ]
  }
 ],
 "metadata": {
  "kernelspec": {
   "display_name": "Python 3",
   "language": "python",
   "name": "python3"
  },
  "language_info": {
   "codemirror_mode": {
    "name": "ipython",
    "version": 3
   },
   "file_extension": ".py",
   "mimetype": "text/x-python",
   "name": "python",
   "nbconvert_exporter": "python",
   "pygments_lexer": "ipython3",
   "version": "3.8.0"
  }
 },
 "nbformat": 4,
 "nbformat_minor": 4
}
